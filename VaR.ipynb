{
 "cells": [
  {
   "cell_type": "markdown",
   "metadata": {},
   "source": [
    "___\n",
    "# Aula 20 - Value at Risk\n",
    "___\n",
    "\n",
    "Objetivo: Montar uma calculadora de risco de carteira.\n",
    "\n",
    "## Tarefas:\n",
    "\n",
    "Com o auxílio do material expositivo da aula, montar células que calculam:\n",
    "\n",
    "1. VaR paramétrico de uma carteira\n",
    "1. VaR via simulação histórica de uma carteira\n",
    "1. VaR via simulação Monte Carlo de uma carteira\n"
   ]
  },
  {
   "cell_type": "code",
   "execution_count": 6,
   "metadata": {},
   "outputs": [],
   "source": [
    "%matplotlib inline\n",
    "\n",
    "from scipy.stats import norm\n",
    "import pandas as pd\n",
    "import numpy as np\n",
    "import math\n",
    "\n",
    "# Descomentar e rodar a linha na primeira vez:\n",
    "#!pip install yahoofinancials\n",
    "\n",
    "from yahoofinancials import YahooFinancials"
   ]
  },
  {
   "cell_type": "markdown",
   "metadata": {},
   "source": [
    "Exemplo de uso da biblioteca yahoofinancials e cálculo do VaR paramétrico de uma ação:"
   ]
  },
  {
   "cell_type": "code",
   "execution_count": 2,
   "metadata": {},
   "outputs": [],
   "source": [
    "ticker = 'PETR4.SA'\n",
    "yahoo_financials = YahooFinancials(ticker)\n",
    "historical_stock_prices = yahoo_financials.get_historical_price_data('2019-05-19', '2019-11-19', 'daily')\n",
    "df = pd.DataFrame()\n",
    "df[ticker] = pd.DataFrame(historical_stock_prices[ticker]['prices']).adjclose"
   ]
  },
  {
   "cell_type": "code",
   "execution_count": 3,
   "metadata": {},
   "outputs": [
    {
     "name": "stdout",
     "output_type": "stream",
     "text": [
      "13085.999965667725\n",
      "-508.442192623648\n"
     ]
    }
   ],
   "source": [
    "# VaR de 1 dia 99% confidence\n",
    "\n",
    "# Considere que foram compradas 450 ações de PETR4\n",
    "pos = 450 * df['PETR4.SA'].iloc[-1]\n",
    "\n",
    "# Calcula-se o retorno e remove os pontos faltantes\n",
    "ret = df['PETR4.SA'].pct_change().dropna()\n",
    "\n",
    "# 1-99% = 1% de alpha\n",
    "z = norm.ppf(0.01)\n",
    "\n",
    "# Desvio padrão dos retornos\n",
    "dp = ret.var()**0.5\n",
    "\n",
    "# Value at Risk\n",
    "var = pos*z*dp\n",
    "\n",
    "print(pos)\n",
    "print(var)"
   ]
  },
  {
   "cell_type": "markdown",
   "metadata": {},
   "source": [
    "Concluindo: Tendo uma carteira com cerca de 13 mil reais de PETR4, há 1% de chance de *perder* cerca de 500.19 reais segundo o cálculo do VaR paramétrico.\n",
    "\n",
    "**Tarefa 1**: Argumente sobre a medida utilizada. Quais são os problemas inerentes dessa abordagem?"
   ]
  },
  {
   "cell_type": "markdown",
   "metadata": {},
   "source": [
    "___\n",
    "Para as próximas tarefas, assumir as seguintes premissas:\n",
    "\n",
    "* Usar uma janela de 63 dias\n",
    "* Assumir uma carteira com 100 ações de PETR4, 100 ações de VALE e 100 ações de ITUB4\n",
    "\n",
    "**Tarefa 2**: Calcular o VaR paramétrico de 1 dia e 99% de confiança da carteira. Comparar os resultados obtidos quando tínhamos apenas PETR4 na carteira."
   ]
  },
  {
   "cell_type": "code",
   "execution_count": 7,
   "metadata": {},
   "outputs": [],
   "source": [
    "# Realizar a captura dos dados\n",
    "ticker_petr4 = 'PETR4.SA'\n",
    "yahoo_financials = YahooFinancials(ticker_petr4)\n",
    "historical_stock_prices = yahoo_financials.get_historical_price_data('2019-05-19', '2019-7-21', 'daily')\n",
    "df_petr4 = pd.DataFrame()\n",
    "df_petr4[ticker_petr4] = pd.DataFrame(historical_stock_prices[ticker_petr4]['prices']).adjclose\n",
    "\n",
    "ticker_vale3 = 'VALE3.SA'\n",
    "yahoo_financials = YahooFinancials(ticker_vale3)\n",
    "historical_stock_prices = yahoo_financials.get_historical_price_data('2019-05-19', '2019-7-21', 'daily')\n",
    "df_vale3 = pd.DataFrame()\n",
    "df_vale3[ticker_vale3] = pd.DataFrame(historical_stock_prices[ticker_vale3]['prices']).adjclose\n",
    "\n",
    "ticker_itub4 = 'ITUB4.SA'\n",
    "yahoo_financials = YahooFinancials(ticker_itub4)\n",
    "historical_stock_prices = yahoo_financials.get_historical_price_data('2019-05-19', '2019-7-21', 'daily')\n",
    "df_itub4 = pd.DataFrame()\n",
    "df_itub4[ticker_itub4] = pd.DataFrame(historical_stock_prices[ticker_itub4]['prices']).adjclose"
   ]
  },
  {
   "cell_type": "code",
   "execution_count": 8,
   "metadata": {},
   "outputs": [
    {
     "name": "stdout",
     "output_type": "stream",
     "text": [
      "11585.639762878418\n",
      "-327.7023283047931\n"
     ]
    }
   ],
   "source": [
    "# VaR de 1 dia 99% confidence da carteira\n",
    "# 100 acoes de cada\n",
    "pos_petr4 = 100 * df_petr4['PETR4.SA'].iloc[-1]\n",
    "pos_vale3 = 100 * df_vale3['VALE3.SA'].iloc[-1]\n",
    "pos_itub4 = 100 * df_itub4['ITUB4.SA'].iloc[-1]\n",
    "pos_total = pos_petr4 + pos_vale3 + pos_itub4\n",
    "\n",
    "# Peso das acoes\n",
    "w_petr4 = pos_petr4/pos_total\n",
    "w_vale3 = pos_vale3/pos_total\n",
    "w_itub4 = pos_itub4/pos_total\n",
    "\n",
    "# Calcula-se o retorno e remove os pontos faltantes\n",
    "ret_petr4 = df_petr4['PETR4.SA'].pct_change().dropna()\n",
    "ret_vale3 = df_vale3['VALE3.SA'].pct_change().dropna()\n",
    "ret_itub4 = df_itub4['ITUB4.SA'].pct_change().dropna()\n",
    "\n",
    "# 1-99% = 1% de alpha\n",
    "z = norm.ppf(0.01)\n",
    "\n",
    "# Desvio padrão dos retornos\n",
    "dp_petr4 = ret_petr4.var()**0.5\n",
    "dp_vale3 = ret_vale3.var()**0.5\n",
    "dp_itub4 = ret_itub4.var()**0.5\n",
    "\n",
    "# print(np.cov(ret_petr4,ret_vale3)[0][1])\n",
    "dp_total = math.sqrt((w_petr4**2)*(dp_petr4**2)+(w_vale3**2)*(dp_vale3**2)+(w_itub4**2)*(dp_itub4**2)+2*w_petr4*w_vale3*np.cov(ret_petr4,ret_vale3)[0][1]+2*w_vale3*w_itub4*np.cov(ret_vale3,ret_itub4)[0][1]+2*w_petr4*w_itub4*np.cov(ret_petr4,ret_itub4)[0][1])\n",
    "\n",
    "\n",
    "# Value at Risk\n",
    "var = pos_total*z*dp_total\n",
    "print(pos_total)\n",
    "print(var)"
   ]
  },
  {
   "cell_type": "markdown",
   "metadata": {},
   "source": [
    "**Tarefa 3**: Calcular o VaR de 1 dia e 99% de confiança da carteira via **Simulação Histórica**. "
   ]
  },
  {
   "cell_type": "code",
   "execution_count": null,
   "metadata": {},
   "outputs": [],
   "source": [
    "# VaR de 1 dia 99% confidence da carteira (simulação histórica)\n"
   ]
  },
  {
   "cell_type": "markdown",
   "metadata": {},
   "source": [
    "**Tarefa 4**: Calcular o VaR de 1 dia e 99% de confiança da carteira via **Simulação Monte Carlo**. Comparar os três resultados"
   ]
  },
  {
   "cell_type": "code",
   "execution_count": null,
   "metadata": {},
   "outputs": [],
   "source": [
    "# VaR de 1 dia 99% confidence da carteira (simulação monte carlo)\n"
   ]
  },
  {
   "cell_type": "markdown",
   "metadata": {},
   "source": [
    "**Tarefa 5**: Compare as três abordagens. Qual você considera a mais correta?\n",
    "O Value-at-Risk, ou VaR, é uma medida que procura quantificar a perda máxima esperada para uma carteira em um determinado horizonte de tempo com um determinado intervalo de confiança, em condições normais de mercado.\n",
    "\n",
    "Nesta análise, exploramos três abordagens do cálculo de VaR: \n",
    "\n",
    "-VaR Paramétrico, que usa métodos analíticos para calcular o VaR de um carteira a partir das volatilidades e covariâncias dos ativos que a compõe;\n",
    "\n",
    "-VaR Histórico, que calcula o VaR a partir dos retornos históricos dos ativos que compõe a carteira;\n",
    "\n",
    "-VaR de Monte Carlo, que usa uma simulação de monte-carlo para simular o retorno da carteira baseado no retorno simulado dos ativos individuais.\n",
    "\n",
    "Apesar das 3 abordagens possuírem diferenças, o Var Paramétrico e o VaR de Monte Carlo, diferente do VaR Histórico, consideram a distribuição dos retornos como uma distribuição normal. Desta forma, ao se usar um número grande o suficiente de iterações ao realizar a abordagem do VaR de Monte Carlo, espera-se que resultado desta análise se convirja para o VaR paramétrico, no caso de uma carteira de ações (se houvesse opções, isso não seria verdade).\n",
    "\n",
    "Por outro lado, o VaR Histórico por definição possui a vantagem de capturar os efeitos de “caudas grossas” e tendências de mercado. Contudo, nada garante que o futuro do preço das ações irá se comportar de maneira igual/parecida ao seu passado. \n",
    "\n",
    "A partir disso, destaca-se uma característica relevante do VaR: O VaR é uma medida simples que procura resumir em um único número todo o risco de mercado. Entretanto, esta simplicidade é ao mesmo tempo uma força e uma fraqueza. \n",
    "\n",
    "Sendo assim, o Value at Risk é uma técnica de gerenciamento de risco que tem que ser visto como algo necessário, mas não deve ser usado como uma ferramenta independente. Detsa forma, vejo que os resultados das abordagens podem ser complementares para a tomada de decisões. \n"
   ]
  },
  {
   "cell_type": "markdown",
   "metadata": {},
   "source": [
    "**Tarefa 6**: Pesquise e explique como seria o cálculo do VaR de uma carteira com títulos de renda fixa e derivativos.\n",
    "Para a avaliação de risco de carteiras com títulos de renda fixa e derivativos, as fontes mais comuns de risco estão relacionadas principalmente a exposição da taxa de juros.\n",
    "\n",
    "Portanto, a mudança no preço a vista de um título de renda fixa pode ser provocada por:\n",
    "\n",
    "(i) Passagem no Tempo: a mudança no preço não constitui fonte de incerteza para o investidor, visto que tal alteração pode perfeitamente ser calculada e antecipada. \n",
    "\n",
    "(ii) Alteração nas Taxas de Juros: deslocamento na yield curve implicam alterações na taxa de desconto dos retornos futuros do título, alterando seu valor presente. Como na maioria das vezes modificações nas taxas de juros não podem ser antecipadas pelos agente econômicos, é exatamente nesse fatos que reside a maior parte do risco relacionado aos títulos de renda fixa. \n",
    "\n",
    "Apesar da abordagem teórica, faz-se necessário quantificar a sensibilidade do preço do ativo de renda fixa para variações na taxa de juros. Técnicas como a duration, convexidade e outras medidas de sensibilidade ao risco são necessárias. \n",
    "\n",
    "A Duration (D) é a média ponderada dos prazos de vencimento de cada pagamento que o título confere. Cada prazo de vencimento é ponderado pelo valor de seu respectivo valor presente. Desta forma, cada prazo de vencimento (t), seu respectivo fluxo de caixa (Ct) será trazido a valor presente, considerando a taxa de juros (r). Por fim, a soma dos produtos (valor presente de Ct vezes t) será dividida pela soma dos valores presentes de Ct, o que fornecerá a duration do fluxo. Vale ressaltar que títulos de cupom zero, a durantion coincide com sua maturidade, ou seja, tempo até o vencimento. \n",
    "\n",
    "Outra maneira de interpretar a Duration é considera-la como elasticidade preço do título em relação à taxa de juros, algo que explica porque a medida de duration pode ser utilizada para calcular a volatilidade do preço de um título. Contudo, é comum no mercado introduzirem o conceito de duration modificada (D*). Calculada da seguinte forma D* = D / (1 + r). Sendo assim, pode-se afirmar que existe uma relação antagônica entre a variação percentual aproximada do preco do título e a variação da taxa de juros. Isto é um aumento nas taxas de juros implicará uma queda no preço do título e vice versa. \n",
    "\n",
    "A partir disso, pode-se calcular o VaR por intermédio da Duration. Supondo uma carteira de 100 MM reais com duration modificada de 6,5 anos e sabendo que nos últimos anos apenas 1 por cento dos aumentos da taxa de juros foram superiores a 0,23 por cento podemos dizer que a pior perda esperada para um horizonte de um dia útil com nível de confiança de 1 por cento é igual a 1,5 MM reias. Ou seja, em 100 dias uteis, em não mais que 1 dia espera-se ter uma perda maior que 1,5 MM reias, o que é a mesma coisa que dizer que em 99 por cento do tempo a perda no período de um dia útil será inferior a 1,5 MM reias. \n",
    "\n",
    "Apesar disso, o VaR obtido a partir da duration, só é capaz de estimar perdas relacionadas a pequenas variações da taxa de juros. Adicionalmente, estas pequenas variações nas taxas de juros devem ser oriundas de movimentos paralelos nas curvas de juros. Sendo assim, uma maneira para amenizar a limitação da duration para previsão de perdas para pequenas variações nos juros é a utilização da convexidade, que por sua vez, é capaz de captar com maior precisão a variação no preço do título dada uma variação na taxa de juros.\n",
    "\n",
    "A convexidade por sua vez é uma medida que diz respeito aos efeitos no preco de um titulo de renda fixa dada uma mudança no patamar dos juros, por exemplo, o Brasil recentemente realizando reduções da Selic. Em ooutras palavras, a convexidade esta associada à segunda derivada do valor presente do fluxo em relação a taxa de juros. Sendo assim, podemos concluir que a inclusão da convexidade ao modelo aumenta a acurácia da previsão. "
   ]
  },
  {
   "cell_type": "markdown",
   "metadata": {},
   "source": [
    "**Tarefa 7**: Sugira uma ideia de como montar uma carteira que minimiza o VaR e maximiza o retorno.\n",
    "Com o intuito de minimizar o VaR e maximixar o retorno, o principal conceito a ser utilizado é de Diversificação. \n",
    "\n",
    "A diversificação dos investimentos consiste em distribuir o capital entre diferentes ativos do mercado financeiro. Isso deve ser realizado devido ao Risco ser dividido em duas categorias: Risco Sistemático e Risco Não Sistemático. Desta forma, para mitigar o risco, a diversificação atua sobre o Risco Não Sistemático, ou seja, o risco que pode ser minimizado com a diversificação da carteira pois cada ação apresenta seu risco especifico do negócio. \n",
    "\n",
    "Para aplicarmos a diversificação na carteira, deve-se inicialmente calcular o log dos retornos das ações. Por se tratar de uma base de dados de Séries temporal, utiliza-se log-retorno devido a suas propriedades estatísticas, como estacionariedade e ergodicidade.\n",
    "\n",
    "Além disso, podemos descrever alguns fatos estilizados que são encontrados na maioria das séries de retornos:\n",
    "\n",
    "(i) estacionariedade;\n",
    "\n",
    "(ii) fraca dependência linear e não linear;\n",
    "\n",
    "(iii) caudas pesadas na distribuição e excesso de curtose;\n",
    "\n",
    "(iv) comportamento heterocedástico condicional.\n",
    "\n",
    "O comportamento heterocedástico reúne características como aglomerados de volatilidade e efeitos alavanca, que aponta para o efeito de choque. Choques negativos normalmente afetam a volatilidade condicional em maior magnitude do que choques\n",
    "positivos, ou seja, uma queda no retorno implica uma volatilidade condicional alta. Portando, além de ter facilidades estatísticas, também suaviza a volatilidade do ativo em questão, suavizando os valores outliers que ocorreram. \n",
    "\n",
    "A partir dos valores encontrados, deve-se utilizar o modelo CAPM para realizar o calculo do retorno esperado E(R). \n",
    "\n",
    "O modelo CAPM (sigla de Capital Asset Pricing Model) é um modelo de equilíbrio de ativos financeiros que permite calcular o retorno que um determinado investidor aceitaria por investir numa empresa. É, portanto, uma forma de encontrar a taxa de rentabilidade exigida que leva em conta o risco sistemático (não diversificável ou risco de mercado), utilizando para tal o conceito do coeficiente Beta (volatilidade da performance média relativa ao mercado). Assim, o Modelo pode ser utilizado para estimar o custo do capital próprio de uma empresa, isto é, calcular o retorno que os acionistas esperam obter por terem injetado dinheiro na empresa.\n",
    "\n",
    "O modelo CAPM possui variações, no entanto a versão inicial foi proposta por Sharpe e Lintne, o qual assume que cada investidor individual se comporta de acordo com o modelo de média-variância de Markowitz, escolhendo uma carteira no conjunto de carteiras eficiente. \n",
    "\n",
    "Após realizado o calculo dos retornos esperados via CAPM, deve-se constuir a Fronteira de Markowitz e encontrar a \"Carteira de Mínima Variância\".  \n",
    "\n",
    "A teoria de Markowitz, conhecida também como teoria da carteira ou teoria do portfólio, teve como grande diferencial apresentar o conceito de fronteira eficiente. A teoria do portfólio mostra que o risco de uma carteira não é dado simplesmente pela média do risco dos ativos individuais, pois é preciso considerar a correlação existente entre os ativos. Sendo assim, pode-se dizer que a “palavra-chave” que permeia a teoria de Markowitz é o conceito de diversificação, com o intuito de reduzir o risco da carteira. O princípio da dominância afirma que o investidor racional prefere o investimento que proporcione o maior retorno esperado para o mesmo nível de risco; ou menor risco para o mesmo retorno esperado. \n",
    "\n",
    "Ao aplicarmos o princípio da dominância para todas as combinações possíveis de carteiras, chegamos a um dos pontos principais da teoria do portfólio de Markowitz: a “Carteira de Mínima Variância” (CMV). \n",
    "\n",
    "O processo para encontrar a carteira de mínima variância (CMV) se resume em encontrar o portfólio ótimo através de um ponto de mínimo (derivada). Este portfólio será o de menor desvio-padrão dentre todas as combinações possíveis. \n",
    "\n",
    "A partir da CMV, se fizermos um ponto em todas as combinações de ativos que possuem o menor nível de risco (desvio-padrão) para qualquer retorno superior ao da CMV, obteremos a \"fronteira eficiente de Markowitz\".\n",
    "\n",
    "Após construir a fronteira de Markowitz e encontrar a Carteira de Mínima Variância, o Índice de Sharpe irá auxiliar o investidor a encontrar a carteira ótima de mercado. \n",
    "\n",
    "O índice Sharpe se faz necessário em decisões quando estamos comparando investimentos similares e uma das opções possui maior retorno enquanto a outra possui menor risco.\n",
    "\n",
    "Quanto maior o Índice Sharpe, melhor a relação risco x retorno e melhor o desempenho do fundo. Quanto menor o Índice Sharpe, pior é a relação risco x retorno e pior o desempenho fundo. \n",
    "\n",
    "Além disso, o Índice de Sharpe é utilizado para realizar a construção da LAC (Linha de Alocação de Capitais) e através desta reta encontramos a carteira ótima de mercado.\n",
    "\n",
    "Sendo assim, ao unir a Fronteira de Markowitz construída anteriormente e a Linha de Alocação de Capitais a carteira ótima é exatamente o ponto em a LAC tangencia a fronteira eficiente."
   ]
  },
  {
   "cell_type": "code",
   "execution_count": null,
   "metadata": {},
   "outputs": [],
   "source": []
  },
  {
   "cell_type": "code",
   "execution_count": null,
   "metadata": {},
   "outputs": [],
   "source": []
  },
  {
   "cell_type": "code",
   "execution_count": null,
   "metadata": {},
   "outputs": [],
   "source": []
  }
 ],
 "metadata": {
  "kernelspec": {
   "display_name": "Python 3",
   "language": "python",
   "name": "python3"
  },
  "language_info": {
   "codemirror_mode": {
    "name": "ipython",
    "version": 3
   },
   "file_extension": ".py",
   "mimetype": "text/x-python",
   "name": "python",
   "nbconvert_exporter": "python",
   "pygments_lexer": "ipython3",
   "version": "3.7.4"
  }
 },
 "nbformat": 4,
 "nbformat_minor": 2
}
